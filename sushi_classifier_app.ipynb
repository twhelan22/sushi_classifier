{
 "cells": [
  {
   "cell_type": "code",
   "execution_count": 2,
   "metadata": {
    "colab": {
     "base_uri": "https://localhost:8080/",
     "height": 34
    },
    "colab_type": "code",
    "executionInfo": {
     "elapsed": 4262,
     "status": "ok",
     "timestamp": 1599745553014,
     "user": {
      "displayName": "Tom Whelan",
      "photoUrl": "https://lh3.googleusercontent.com/a-/AOh14GgnbPvaiz9OgiXkVoVkd2gHC3Jpjk3NZsn-eoSH=s64",
      "userId": "03831464729329717576"
     },
     "user_tz": -60
    },
    "id": "LJBd-oxjHwHQ",
    "outputId": "874e7a79-6b64-4a50-d0d4-c391b68b7639"
   },
   "outputs": [
    {
     "name": "stdout",
     "output_type": "stream",
     "text": [
      "Drive already mounted at /content/drive; to attempt to forcibly remount, call drive.mount(\"/content/drive\", force_remount=True).\n"
     ]
    }
   ],
   "source": [
    "from fastai.vision.all import *\n",
    "from fastai.vision.widgets import *"
   ]
  },
  {
   "cell_type": "markdown",
   "metadata": {
    "colab_type": "text",
    "id": "N1-WbzpqPrcB"
   },
   "source": [
    "# Sushi Identifier\n",
    "If you're the sort of person that spends 10 minutes trying to decipher the sushi menu before panicking and ordering the house ramen, you've come to the right place! Simply upload a picture containing *a single type* of sushi below, then click classify and the app will tell you what you are looking at! Possible options are nigiri, maki (hosomaki, chumaki, or futomaki), uramaki, temaki, chirashi, inari, oshi, gunkan maki, temari, or chakin."
   ]
  },
  {
   "cell_type": "code",
   "execution_count": 3,
   "metadata": {
    "colab": {},
    "colab_type": "code",
    "executionInfo": {
     "elapsed": 4257,
     "status": "ok",
     "timestamp": 1599745553015,
     "user": {
      "displayName": "Tom Whelan",
      "photoUrl": "https://lh3.googleusercontent.com/a-/AOh14GgnbPvaiz9OgiXkVoVkd2gHC3Jpjk3NZsn-eoSH=s64",
      "userId": "03831464729329717576"
     },
     "user_tz": -60
    },
    "id": "oSnHjyDJNgn7"
   },
   "outputs": [],
   "source": [
    "# Load model\n",
    "path = Path()\n",
    "learn_inf = load_learner(path/'export.pkl', cpu=True)"
   ]
  },
  {
   "cell_type": "code",
   "execution_count": 4,
   "metadata": {
    "colab": {
     "base_uri": "https://localhost:8080/",
     "height": 230,
     "referenced_widgets": [
      "0de06d16346f4067a8f095553d5fed82",
      "d5a2ee6121f74a858e7f0c601bbc2228",
      "d6d4af391277415685f84781b3dec1bb",
      "27bd52094e614707a75546d45b326489",
      "9990739ff03547ca91f4977fec8cd775",
      "99f8b984969343c79ce3b6131481da27",
      "09f2279014f640db9897c40eb0568384",
      "bdd161aacbf449c79199244b31ab1b56",
      "18cc1ce504314cf79d459dd2cf077807",
      "2777eeb7d29946408a333114af597b7d",
      "4a46d31694854c9d9918425f2e6b9a5b",
      "a319acfa4f794ab3b0605e5205783219",
      "caa2eaa5770f43b38f8a866f6637ebc9",
      "ba1b10d3def9462e8f0b1febde1e1899",
      "91913607445f447783c33a3de0c9b8ab",
      "920799e21a684f579d1cd8dfabc521ff"
     ]
    },
    "colab_type": "code",
    "executionInfo": {
     "elapsed": 4249,
     "status": "ok",
     "timestamp": 1599745553016,
     "user": {
      "displayName": "Tom Whelan",
      "photoUrl": "https://lh3.googleusercontent.com/a-/AOh14GgnbPvaiz9OgiXkVoVkd2gHC3Jpjk3NZsn-eoSH=s64",
      "userId": "03831464729329717576"
     },
     "user_tz": -60
    },
    "id": "URxMayH4M6DD",
    "outputId": "bfeb41d2-2faa-4f77-d3b4-c1024b05f9de"
   },
   "outputs": [
    {
     "data": {
      "application/vnd.jupyter.widget-view+json": {
       "model_id": "0de06d16346f4067a8f095553d5fed82",
       "version_major": 2,
       "version_minor": 0
      },
      "text/plain": [
       "VBox(children=(Label(value='Select your sushi!'), FileUpload(value={}, description='Upload'), Button(descripti…"
      ]
     },
     "metadata": {
      "tags": []
     },
     "output_type": "display_data"
    },
    {
     "data": {
      "text/html": [],
      "text/plain": [
       "<IPython.core.display.HTML object>"
      ]
     },
     "metadata": {
      "tags": []
     },
     "output_type": "display_data"
    }
   ],
   "source": [
    "# Upload button widget\n",
    "btn_upload = widgets.FileUpload()\n",
    "\n",
    "# Classify button widget\n",
    "btn_run = widgets.Button(description='Classify')\n",
    "\n",
    "# Output widget to display image\n",
    "out_pl = widgets.Output()\n",
    "\n",
    "# Label widget to display text\n",
    "lbl_pred = widgets.Label()\n",
    "\n",
    "# Run model when classify button is clicked\n",
    "def on_click_classify(change):\n",
    "    img = PILImage.create(btn_upload.data[-1])\n",
    "    out_pl.clear_output()\n",
    "    with out_pl: display(img.to_thumb(128,128))\n",
    "    pred,pred_idx,probs = learn_inf.predict(img)\n",
    "    lbl_pred.value = f'Prediction: {pred}; Probability: {probs[pred_idx]:.04f}'\n",
    "\n",
    "btn_run.on_click(on_click_classify)\n",
    "\n",
    "# Add all to vertical box\n",
    "VBox([widgets.Label('Select your sushi!'), \n",
    "      btn_upload, btn_run, out_pl, lbl_pred])"
   ]
  },
  {
   "cell_type": "markdown",
   "metadata": {
    "colab_type": "text",
    "id": "6YWIBKk7VJkx"
   },
   "source": [
    "# Notes\n",
    "This app was created for free for part 2 of https://course.fast.ai/ using the following:\n",
    "*   ResNet-18 CNN with default fastai settings.\n",
    "*   At most 150 images of each type of sushi.\n",
    "*   2 mins 30 secs total training time.\n",
    "\n",
    "The model has an error rate of approximately 12%. Some of the types are very similar to each other, particularly nigiri and oshi. It also looks like white/black backgrounds are occasionally getting mistaken for rice/nori, which leads to an incorrect classification. A better dataset, additional training and more finely tuned data augmentation would all help increase the accuracy of the model.\n"
   ]
  }
 ],
 "metadata": {
  "colab": {
   "authorship_tag": "ABX9TyMOXDsI8Uu1NKgoaIwufrh3",
   "collapsed_sections": [],
   "name": "sushi_classifier_app.ipynb",
   "provenance": []
  },
  "kernelspec": {
   "display_name": "Python 3",
   "language": "python",
   "name": "python3"
  },
  "language_info": {
   "codemirror_mode": {
    "name": "ipython",
    "version": 3
   },
   "file_extension": ".py",
   "mimetype": "text/x-python",
   "name": "python",
   "nbconvert_exporter": "python",
   "pygments_lexer": "ipython3",
   "version": "3.6.8"
  },
  "widgets": {
   "application/vnd.jupyter.widget-state+json": {
    "09f2279014f640db9897c40eb0568384": {
     "model_module": "@jupyter-widgets/controls",
     "model_name": "LabelModel",
     "state": {
      "_dom_classes": [],
      "_model_module": "@jupyter-widgets/controls",
      "_model_module_version": "1.5.0",
      "_model_name": "LabelModel",
      "_view_count": null,
      "_view_module": "@jupyter-widgets/controls",
      "_view_module_version": "1.5.0",
      "_view_name": "LabelView",
      "description": "",
      "description_tooltip": null,
      "layout": "IPY_MODEL_91913607445f447783c33a3de0c9b8ab",
      "placeholder": "​",
      "style": "IPY_MODEL_ba1b10d3def9462e8f0b1febde1e1899",
      "value": "Prediction: maki; Probability: 0.9958"
     }
    },
    "0de06d16346f4067a8f095553d5fed82": {
     "model_module": "@jupyter-widgets/controls",
     "model_name": "VBoxModel",
     "state": {
      "_dom_classes": [],
      "_model_module": "@jupyter-widgets/controls",
      "_model_module_version": "1.5.0",
      "_model_name": "VBoxModel",
      "_view_count": null,
      "_view_module": "@jupyter-widgets/controls",
      "_view_module_version": "1.5.0",
      "_view_name": "VBoxView",
      "box_style": "",
      "children": [
       "IPY_MODEL_d6d4af391277415685f84781b3dec1bb",
       "IPY_MODEL_27bd52094e614707a75546d45b326489",
       "IPY_MODEL_9990739ff03547ca91f4977fec8cd775",
       "IPY_MODEL_99f8b984969343c79ce3b6131481da27",
       "IPY_MODEL_09f2279014f640db9897c40eb0568384"
      ],
      "layout": "IPY_MODEL_d5a2ee6121f74a858e7f0c601bbc2228"
     }
    },
    "18cc1ce504314cf79d459dd2cf077807": {
     "model_module": "@jupyter-widgets/base",
     "model_name": "LayoutModel",
     "state": {
      "_model_module": "@jupyter-widgets/base",
      "_model_module_version": "1.2.0",
      "_model_name": "LayoutModel",
      "_view_count": null,
      "_view_module": "@jupyter-widgets/base",
      "_view_module_version": "1.2.0",
      "_view_name": "LayoutView",
      "align_content": null,
      "align_items": null,
      "align_self": null,
      "border": null,
      "bottom": null,
      "display": null,
      "flex": null,
      "flex_flow": null,
      "grid_area": null,
      "grid_auto_columns": null,
      "grid_auto_flow": null,
      "grid_auto_rows": null,
      "grid_column": null,
      "grid_gap": null,
      "grid_row": null,
      "grid_template_areas": null,
      "grid_template_columns": null,
      "grid_template_rows": null,
      "height": null,
      "justify_content": null,
      "justify_items": null,
      "left": null,
      "margin": null,
      "max_height": null,
      "max_width": null,
      "min_height": null,
      "min_width": null,
      "object_fit": null,
      "object_position": null,
      "order": null,
      "overflow": null,
      "overflow_x": null,
      "overflow_y": null,
      "padding": null,
      "right": null,
      "top": null,
      "visibility": null,
      "width": null
     }
    },
    "2777eeb7d29946408a333114af597b7d": {
     "model_module": "@jupyter-widgets/controls",
     "model_name": "ButtonStyleModel",
     "state": {
      "_model_module": "@jupyter-widgets/controls",
      "_model_module_version": "1.5.0",
      "_model_name": "ButtonStyleModel",
      "_view_count": null,
      "_view_module": "@jupyter-widgets/base",
      "_view_module_version": "1.2.0",
      "_view_name": "StyleView",
      "button_color": null,
      "font_weight": ""
     }
    },
    "27bd52094e614707a75546d45b326489": {
     "model_module": "@jupyter-widgets/controls",
     "model_name": "FileUploadModel",
     "state": {
      "_counter": 1,
      "_dom_classes": [],
      "_model_module": "@jupyter-widgets/controls",
      "_model_module_version": "1.5.0",
      "_model_name": "FileUploadModel",
      "_view_count": null,
      "_view_module": "@jupyter-widgets/controls",
      "_view_module_version": "1.5.0",
      "_view_name": "FileUploadView",
      "accept": "",
      "button_style": "",
      "data": [
       null
      ],
      "description": "Upload",
      "description_tooltip": null,
      "disabled": false,
      "error": "",
      "icon": "upload",
      "layout": "IPY_MODEL_4a46d31694854c9d9918425f2e6b9a5b",
      "metadata": [
       {
        "lastModified": 1599742004463,
        "name": "test.jpeg",
        "size": 2005862,
        "type": "image/jpeg"
       }
      ],
      "multiple": false,
      "style": "IPY_MODEL_2777eeb7d29946408a333114af597b7d"
     }
    },
    "4a46d31694854c9d9918425f2e6b9a5b": {
     "model_module": "@jupyter-widgets/base",
     "model_name": "LayoutModel",
     "state": {
      "_model_module": "@jupyter-widgets/base",
      "_model_module_version": "1.2.0",
      "_model_name": "LayoutModel",
      "_view_count": null,
      "_view_module": "@jupyter-widgets/base",
      "_view_module_version": "1.2.0",
      "_view_name": "LayoutView",
      "align_content": null,
      "align_items": null,
      "align_self": null,
      "border": null,
      "bottom": null,
      "display": null,
      "flex": null,
      "flex_flow": null,
      "grid_area": null,
      "grid_auto_columns": null,
      "grid_auto_flow": null,
      "grid_auto_rows": null,
      "grid_column": null,
      "grid_gap": null,
      "grid_row": null,
      "grid_template_areas": null,
      "grid_template_columns": null,
      "grid_template_rows": null,
      "height": null,
      "justify_content": null,
      "justify_items": null,
      "left": null,
      "margin": null,
      "max_height": null,
      "max_width": null,
      "min_height": null,
      "min_width": null,
      "object_fit": null,
      "object_position": null,
      "order": null,
      "overflow": null,
      "overflow_x": null,
      "overflow_y": null,
      "padding": null,
      "right": null,
      "top": null,
      "visibility": null,
      "width": null
     }
    },
    "91913607445f447783c33a3de0c9b8ab": {
     "model_module": "@jupyter-widgets/base",
     "model_name": "LayoutModel",
     "state": {
      "_model_module": "@jupyter-widgets/base",
      "_model_module_version": "1.2.0",
      "_model_name": "LayoutModel",
      "_view_count": null,
      "_view_module": "@jupyter-widgets/base",
      "_view_module_version": "1.2.0",
      "_view_name": "LayoutView",
      "align_content": null,
      "align_items": null,
      "align_self": null,
      "border": null,
      "bottom": null,
      "display": null,
      "flex": null,
      "flex_flow": null,
      "grid_area": null,
      "grid_auto_columns": null,
      "grid_auto_flow": null,
      "grid_auto_rows": null,
      "grid_column": null,
      "grid_gap": null,
      "grid_row": null,
      "grid_template_areas": null,
      "grid_template_columns": null,
      "grid_template_rows": null,
      "height": null,
      "justify_content": null,
      "justify_items": null,
      "left": null,
      "margin": null,
      "max_height": null,
      "max_width": null,
      "min_height": null,
      "min_width": null,
      "object_fit": null,
      "object_position": null,
      "order": null,
      "overflow": null,
      "overflow_x": null,
      "overflow_y": null,
      "padding": null,
      "right": null,
      "top": null,
      "visibility": null,
      "width": null
     }
    },
    "920799e21a684f579d1cd8dfabc521ff": {
     "model_module": "@jupyter-widgets/base",
     "model_name": "LayoutModel",
     "state": {
      "_model_module": "@jupyter-widgets/base",
      "_model_module_version": "1.2.0",
      "_model_name": "LayoutModel",
      "_view_count": null,
      "_view_module": "@jupyter-widgets/base",
      "_view_module_version": "1.2.0",
      "_view_name": "LayoutView",
      "align_content": null,
      "align_items": null,
      "align_self": null,
      "border": null,
      "bottom": null,
      "display": null,
      "flex": null,
      "flex_flow": null,
      "grid_area": null,
      "grid_auto_columns": null,
      "grid_auto_flow": null,
      "grid_auto_rows": null,
      "grid_column": null,
      "grid_gap": null,
      "grid_row": null,
      "grid_template_areas": null,
      "grid_template_columns": null,
      "grid_template_rows": null,
      "height": null,
      "justify_content": null,
      "justify_items": null,
      "left": null,
      "margin": null,
      "max_height": null,
      "max_width": null,
      "min_height": null,
      "min_width": null,
      "object_fit": null,
      "object_position": null,
      "order": null,
      "overflow": null,
      "overflow_x": null,
      "overflow_y": null,
      "padding": null,
      "right": null,
      "top": null,
      "visibility": null,
      "width": null
     }
    },
    "9990739ff03547ca91f4977fec8cd775": {
     "model_module": "@jupyter-widgets/controls",
     "model_name": "ButtonModel",
     "state": {
      "_dom_classes": [],
      "_model_module": "@jupyter-widgets/controls",
      "_model_module_version": "1.5.0",
      "_model_name": "ButtonModel",
      "_view_count": null,
      "_view_module": "@jupyter-widgets/controls",
      "_view_module_version": "1.5.0",
      "_view_name": "ButtonView",
      "button_style": "",
      "description": "Classify",
      "disabled": false,
      "icon": "",
      "layout": "IPY_MODEL_caa2eaa5770f43b38f8a866f6637ebc9",
      "style": "IPY_MODEL_a319acfa4f794ab3b0605e5205783219",
      "tooltip": ""
     }
    },
    "99f8b984969343c79ce3b6131481da27": {
     "model_module": "@jupyter-widgets/output",
     "model_name": "OutputModel",
     "state": {
      "_dom_classes": [],
      "_model_module": "@jupyter-widgets/output",
      "_model_module_version": "1.0.0",
      "_model_name": "OutputModel",
      "_view_count": null,
      "_view_module": "@jupyter-widgets/output",
      "_view_module_version": "1.0.0",
      "_view_name": "OutputView",
      "layout": "IPY_MODEL_920799e21a684f579d1cd8dfabc521ff",
      "msg_id": "",
      "outputs": [
       {
        "image/png": "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\n",
        "metadata": {
         "tags": []
        },
        "output_type": "display_data",
        "text/plain": "<PIL.Image.Image image mode=RGB size=128x85 at 0x7F3936C2C550>"
       }
      ]
     }
    },
    "a319acfa4f794ab3b0605e5205783219": {
     "model_module": "@jupyter-widgets/controls",
     "model_name": "ButtonStyleModel",
     "state": {
      "_model_module": "@jupyter-widgets/controls",
      "_model_module_version": "1.5.0",
      "_model_name": "ButtonStyleModel",
      "_view_count": null,
      "_view_module": "@jupyter-widgets/base",
      "_view_module_version": "1.2.0",
      "_view_name": "StyleView",
      "button_color": null,
      "font_weight": ""
     }
    },
    "ba1b10d3def9462e8f0b1febde1e1899": {
     "model_module": "@jupyter-widgets/controls",
     "model_name": "DescriptionStyleModel",
     "state": {
      "_model_module": "@jupyter-widgets/controls",
      "_model_module_version": "1.5.0",
      "_model_name": "DescriptionStyleModel",
      "_view_count": null,
      "_view_module": "@jupyter-widgets/base",
      "_view_module_version": "1.2.0",
      "_view_name": "StyleView",
      "description_width": ""
     }
    },
    "bdd161aacbf449c79199244b31ab1b56": {
     "model_module": "@jupyter-widgets/controls",
     "model_name": "DescriptionStyleModel",
     "state": {
      "_model_module": "@jupyter-widgets/controls",
      "_model_module_version": "1.5.0",
      "_model_name": "DescriptionStyleModel",
      "_view_count": null,
      "_view_module": "@jupyter-widgets/base",
      "_view_module_version": "1.2.0",
      "_view_name": "StyleView",
      "description_width": ""
     }
    },
    "caa2eaa5770f43b38f8a866f6637ebc9": {
     "model_module": "@jupyter-widgets/base",
     "model_name": "LayoutModel",
     "state": {
      "_model_module": "@jupyter-widgets/base",
      "_model_module_version": "1.2.0",
      "_model_name": "LayoutModel",
      "_view_count": null,
      "_view_module": "@jupyter-widgets/base",
      "_view_module_version": "1.2.0",
      "_view_name": "LayoutView",
      "align_content": null,
      "align_items": null,
      "align_self": null,
      "border": null,
      "bottom": null,
      "display": null,
      "flex": null,
      "flex_flow": null,
      "grid_area": null,
      "grid_auto_columns": null,
      "grid_auto_flow": null,
      "grid_auto_rows": null,
      "grid_column": null,
      "grid_gap": null,
      "grid_row": null,
      "grid_template_areas": null,
      "grid_template_columns": null,
      "grid_template_rows": null,
      "height": null,
      "justify_content": null,
      "justify_items": null,
      "left": null,
      "margin": null,
      "max_height": null,
      "max_width": null,
      "min_height": null,
      "min_width": null,
      "object_fit": null,
      "object_position": null,
      "order": null,
      "overflow": null,
      "overflow_x": null,
      "overflow_y": null,
      "padding": null,
      "right": null,
      "top": null,
      "visibility": null,
      "width": null
     }
    },
    "d5a2ee6121f74a858e7f0c601bbc2228": {
     "model_module": "@jupyter-widgets/base",
     "model_name": "LayoutModel",
     "state": {
      "_model_module": "@jupyter-widgets/base",
      "_model_module_version": "1.2.0",
      "_model_name": "LayoutModel",
      "_view_count": null,
      "_view_module": "@jupyter-widgets/base",
      "_view_module_version": "1.2.0",
      "_view_name": "LayoutView",
      "align_content": null,
      "align_items": null,
      "align_self": null,
      "border": null,
      "bottom": null,
      "display": null,
      "flex": null,
      "flex_flow": null,
      "grid_area": null,
      "grid_auto_columns": null,
      "grid_auto_flow": null,
      "grid_auto_rows": null,
      "grid_column": null,
      "grid_gap": null,
      "grid_row": null,
      "grid_template_areas": null,
      "grid_template_columns": null,
      "grid_template_rows": null,
      "height": null,
      "justify_content": null,
      "justify_items": null,
      "left": null,
      "margin": null,
      "max_height": null,
      "max_width": null,
      "min_height": null,
      "min_width": null,
      "object_fit": null,
      "object_position": null,
      "order": null,
      "overflow": null,
      "overflow_x": null,
      "overflow_y": null,
      "padding": null,
      "right": null,
      "top": null,
      "visibility": null,
      "width": null
     }
    },
    "d6d4af391277415685f84781b3dec1bb": {
     "model_module": "@jupyter-widgets/controls",
     "model_name": "LabelModel",
     "state": {
      "_dom_classes": [],
      "_model_module": "@jupyter-widgets/controls",
      "_model_module_version": "1.5.0",
      "_model_name": "LabelModel",
      "_view_count": null,
      "_view_module": "@jupyter-widgets/controls",
      "_view_module_version": "1.5.0",
      "_view_name": "LabelView",
      "description": "",
      "description_tooltip": null,
      "layout": "IPY_MODEL_18cc1ce504314cf79d459dd2cf077807",
      "placeholder": "​",
      "style": "IPY_MODEL_bdd161aacbf449c79199244b31ab1b56",
      "value": "Select your sushi!"
     }
    }
   }
  }
 },
 "nbformat": 4,
 "nbformat_minor": 2
}
